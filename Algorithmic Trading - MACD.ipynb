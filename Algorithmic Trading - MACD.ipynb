{
 "cells": [
  {
   "cell_type": "markdown",
   "id": "911f91c3",
   "metadata": {},
   "source": [
    "# Algorithmic Trading - Moving Average Convergence Divergence"
   ]
  },
  {
   "cell_type": "markdown",
   "id": "8938ccbe",
   "metadata": {},
   "source": [
    "This work will explain the Moving Average Convergence Divergence (MACD) strategy, providing the implementation code and its interpretation."
   ]
  },
  {
   "cell_type": "markdown",
   "id": "fb401a8e",
   "metadata": {},
   "source": [
    "## 1) Theoretical Concept"
   ]
  },
  {
   "cell_type": "markdown",
   "id": "21e4290e",
   "metadata": {},
   "source": [
    "The MACD is a technical analysis indicator used in finance as a trading strategy. Developped by Gerard Appel in the 1970s, this method provide information about dynamic of buying and selling stocks in order to take profit of it. There are several uses for this method. \n",
    "\n",
    "In order to apply the studied version, it requires to compute the MACD and a signal trend. The MACD is calculated using two exponantial moving average. It represents the difference between the value of a slower Exponential Moving Average (EMA) from a faster EMA. In other words, an EMA with a longer time period is substracted from an EMA with a shorter time period. The signal trend in found by computing the EMA with an even shorter time span."
   ]
  },
  {
   "cell_type": "markdown",
   "id": "6467e8be",
   "metadata": {},
   "source": [
    "The EMA and MACD are computed as follows: \n",
    "\n",
    "$$ EMA(n) = \\frac{2}{1 + n} \\times(P_t - EMA_{t-1}) + EMA_{t-1} $$\n",
    "\n",
    "$$ MACD_t = EMA(s)_t - EMA(l)_t $$\n",
    "\n",
    "where $P_t$ is the closing price of a stock on day $t$, and $n$ is the number of periods for calculating $EMA(n)$. $EMA(s)$ and $EMA(l)$ are the $EMA(n)$ for a short and longer time period, respectively."
   ]
  },
  {
   "cell_type": "markdown",
   "id": "9624fcd9",
   "metadata": {},
   "source": [
    "In general, the period's lenght of the short, long EMA and the EMA are 12, 26 and 9, respectively."
   ]
  },
  {
   "cell_type": "markdown",
   "id": "4d292116",
   "metadata": {},
   "source": [
    "The graphic representation of the values of MACD and the EMA signal is used to determine the position of the trader. In fact, it is suggest to buy the stock when the MACD line crosses above the signal line. The stock should be sold when the MACD line crosses below the signal line. "
   ]
  },
  {
   "cell_type": "markdown",
   "id": "69fdf2b5",
   "metadata": {},
   "source": [
    "## 2) Implementation"
   ]
  },
  {
   "cell_type": "markdown",
   "id": "6fcd717d",
   "metadata": {},
   "source": [
    "To begin, all the libraries that will be used must be imported."
   ]
  },
  {
   "cell_type": "code",
   "execution_count": null,
   "id": "e8eff4fa",
   "metadata": {},
   "outputs": [],
   "source": [
    "import pandas as pd\n",
    "import yfinance as yf\n",
    "import matplotlib.pyplot as plt\n",
    "from datetime import timedelta, date"
   ]
  },
  {
   "cell_type": "markdown",
   "id": "38065f6f",
   "metadata": {},
   "source": [
    "Then, the function which compute the EMA's and MACD and collect is definied. The hole function is divided into smaller piece in order to provide an explaination."
   ]
  },
  {
   "cell_type": "markdown",
   "id": "9d65874b",
   "metadata": {},
   "source": [
    "**Step 1:** The function requires 6 inputs.\n",
    "\n",
    "**Step 2:** The code download the data related to a specific stock over a given period. The following lines compute the Exponential Moving Averages (EMA) and the Moving Average Convergence Divergence (MACD) based on the close value of the stock. The function *.ewm* allows the calculation of the exponential moving average. The component *span* replaces $\\frac{2}{1 + n}$ in the equation above. The component *adjusted=False* signifies that the computation of the exponentially weighted function is done recursively. All results are stored in a new data frame with labeled columns.\n",
    "\n",
    "**Step 3:** A loop iterates over all results to check which lines of the data frame meet the specific conditions. If a line satisies the condition, the required information is stored in new lists. Since the EMA's and the MACD are calculated based on the close value, and the signal is also defined based on the close value of the stock, the buy or sell of the stock occurs the following day. Therefore, the price at which the share is bought, i.e. the next day is retrieved using the function *.iloc*.\n",
    "\n",
    "**Step 4:** It may occur that the first signal is sell or the last signal is buy. However, it is not possible to compute the return for the period before the first sell or after the last buy, as it goes beyond the scope of the analysis. This problem arises because the time period may be too short. The fourth step is designed to rectify these mistakes.\n",
    "\n",
    "**Step 5:** In this step, the return for each holding period is computed. These values are also stored in a new list.\n",
    "\n",
    "**Step 6:** The outputs are set."
   ]
  },
  {
   "cell_type": "code",
   "execution_count": null,
   "id": "7242928c",
   "metadata": {},
   "outputs": [],
   "source": [
    "# Step 1\n",
    "def Strategy(ticker, start, end, short_window, long_window, signal_window):\n",
    "\n",
    "# Step_2\n",
    "    df = yf.download(ticker, start, end)\n",
    "    df['EMA_short'] = df['Close'].ewm(span=short_window, adjust=False).mean()\n",
    "    df['EMA_long'] = df['Close'].ewm(span=long_window, adjust=False).mean()\n",
    "    df['MACD'] = df['EMA_short'] - df['EMA_long']\n",
    "    df['signal'] = df['MACD'].ewm(span=signal_window, adjust=False).mean()\n",
    "\n",
    "# Step 3\n",
    "    signal_buy, signal_sell = [], []\n",
    "    signal_buy_dates, signal_sell_dates = [], []\n",
    "    buy_prices, sell_prices = [], []\n",
    "    buy_dates, sell_dates = [], []\n",
    "    \n",
    "    for i in range(1, len(df)-1):\n",
    "        if (df['MACD'].iloc[i] > df['signal'].iloc[i]) and (df['MACD'].iloc[i-1] < df['signal'].iloc[i-1]):\n",
    "            signal_buy.append(i)\n",
    "            signal_buy_dates.append(df.index[i])\n",
    "            buy_prices.append(df['Open'].iloc[i+1])\n",
    "            buy_dates.append(df.index[i+1])\n",
    "        elif (df['MACD'].iloc[i] < df['signal'].iloc[i]) and (df['MACD'].iloc[i-1] > df['signal'].iloc[i-1]):\n",
    "            signal_sell.append(i)\n",
    "            signal_sell_dates.append(df.index[i])\n",
    "            sell_prices.append(df['Open'].iloc[i+1])\n",
    "            sell_dates.append(df.index[i+1])\n",
    "# Step 4            \n",
    "    if signal_sell and signal_buy:\n",
    "        if signal_sell[0] < signal_buy[0]:\n",
    "            signal_sell = signal_sell[1:]\n",
    "            signal_sell_dates = signal_sell_dates[1:]\n",
    "            sell_prices = sell_prices[1:]\n",
    "            sell_dates = sell_dates[1:]\n",
    "        \n",
    "        if signal_sell[-1] < signal_buy[-1]:\n",
    "            signal_buy = signal_buy[:-1]\n",
    "            signal_buy_dates = signal_buy_dates[:-1]\n",
    "            buy_prices = buy_prices[:-1]\n",
    "            buy_dates = buy_dates[:-1]\n",
    "# Step 5        \n",
    "    return_performance = []\n",
    "\n",
    "    for i in range(len(sell_prices)):\n",
    "        return_performance.append(((sell_prices[i] - buy_prices[i]) / buy_prices[i]) * 100)\n",
    "\n",
    "# Step 6\n",
    "    output = (df, signal_buy, signal_buy_dates, buy_prices, buy_dates, signal_sell, signal_sell_dates, \n",
    "              sell_prices, sell_dates, return_performance)\n",
    "    \n",
    "    return output\n"
   ]
  },
  {
   "cell_type": "markdown",
   "id": "ffb00a4d",
   "metadata": {},
   "source": [
    "## 3) Application"
   ]
  },
  {
   "cell_type": "markdown",
   "id": "a3d2ac9c",
   "metadata": {},
   "source": [
    "The strategy will be applied using data from the preceding 365 days. Therefore, the following code examines today's data and computes the relevant period."
   ]
  },
  {
   "cell_type": "code",
   "execution_count": null,
   "id": "a755ba9f",
   "metadata": {},
   "outputs": [],
   "source": [
    "today = date.today()\n",
    "end_period = today - timedelta(days = 1)\n",
    "start_period = today - timedelta(days = 366)\n",
    "print(\"The first day considered in our computation is\", start_period, \"and the last day is\", end_period)"
   ]
  },
  {
   "cell_type": "markdown",
   "id": "399bed1f",
   "metadata": {},
   "source": [
    "The function *Strategy* is used. All required inputs are set. It this case, the strategy is applied for *McDonald's (MCD)*."
   ]
  },
  {
   "cell_type": "code",
   "execution_count": null,
   "id": "df68f0ae",
   "metadata": {},
   "outputs": [],
   "source": [
    "result = Strategy(ticker='MCD', start=start_period ,end=end_period,short_window=12,long_window=26,\n",
    "    signal_window=9)"
   ]
  },
  {
   "cell_type": "markdown",
   "id": "0e698656",
   "metadata": {},
   "source": [
    "A command is executed to display the database containing the computed EMA and MACD values."
   ]
  },
  {
   "cell_type": "code",
   "execution_count": null,
   "id": "73f0fbb6",
   "metadata": {},
   "outputs": [],
   "source": [
    "print(\"Data:\")\n",
    "print(result[0])"
   ]
  },
  {
   "cell_type": "markdown",
   "id": "f32c857f",
   "metadata": {},
   "source": [
    "A command is applied to view the lists containing the buy and sell signals. Not all information from the lists is printed. The indices of the lists are also adjusted so that they start with the number 1."
   ]
  },
  {
   "cell_type": "code",
   "execution_count": null,
   "id": "a811d955",
   "metadata": {},
   "outputs": [],
   "source": [
    "buy_table = pd.DataFrame({'Row': result[1], 'Signal Date': result[2], 'Buy Date': result[4], \n",
    "                          'Buy Price': result[3]}, index=range(1, len(result[1]) + 1))\n",
    "sell_table = pd.DataFrame({'Row': result[5], 'Signal Date': result[6], 'Sell Date': result[8], \n",
    "                           'Sell Price': result[7]}, index=range(1, len(result[5]) + 1))\n",
    "\n",
    "print(\"Buy Table:\")\n",
    "print(buy_table)\n",
    "\n",
    "print(\"\\nSell Table:\")\n",
    "print(sell_table)"
   ]
  },
  {
   "cell_type": "markdown",
   "id": "37e87c39",
   "metadata": {},
   "source": [
    "A command is excecuted to see the return of each holding period of the stock. In order to accomplish it, a new list is created which stock the return computed by the function. Then, those values are rounded and a new list is made. Besides, all returns are added together to know the performance of the startegy for the specific stock over the decided time period."
   ]
  },
  {
   "cell_type": "code",
   "execution_count": null,
   "id": "af30ad49",
   "metadata": {},
   "outputs": [],
   "source": [
    "returns_list = result[9]\n",
    "\n",
    "returns_rounded = [f'{round(return_value, 2)}%' for return_value in returns_list]\n",
    "\n",
    "performance_table = pd.DataFrame({'Return': returns_rounded}, index=range(1, len(returns_rounded) + 1))\n",
    "\n",
    "global_performance = sum(returns_list)\n",
    "                                  \n",
    "print(\"Performance Table:\")\n",
    "print(performance_table)\n",
    "print(\"\\nThe return of this strategy is\", f'{round(global_performance, 2)}%')"
   ]
  },
  {
   "cell_type": "markdown",
   "id": "00d87bb7",
   "metadata": {},
   "source": [
    "All the displayed lists can be transferred to a new document in Excel."
   ]
  },
  {
   "cell_type": "code",
   "execution_count": null,
   "id": "ab6a3103",
   "metadata": {},
   "outputs": [],
   "source": [
    "with pd.ExcelWriter('results_MACD.xlsx') as writer:\n",
    "    result[0].to_excel(writer, sheet_name='Data')\n",
    "    buy_table.to_excel(writer, sheet_name='Buy Table')\n",
    "    sell_table.to_excel(writer, sheet_name='Sell Table')\n",
    "    performance_table.to_excel(writer, sheet_name='Returns')"
   ]
  },
  {
   "cell_type": "markdown",
   "id": "40a03593",
   "metadata": {},
   "source": [
    "The first graph shows both MACD and signal line. When both lines cross, it is providing a buy/sell signal."
   ]
  },
  {
   "cell_type": "code",
   "execution_count": null,
   "id": "7eec8c2e",
   "metadata": {},
   "outputs": [],
   "source": [
    "result[0][['MACD', 'signal']].plot(\n",
    "    title= 'MACD and Signal lines',\n",
    "    grid=True,\n",
    "    style={'MACD': '-', 'signal': '--'}\n",
    ")\n",
    "plt.show()"
   ]
  },
  {
   "cell_type": "markdown",
   "id": "478ecd58",
   "metadata": {},
   "source": [
    "The second graph shows the price of the price with marker indicating the price at which the stock is bought/sold."
   ]
  },
  {
   "cell_type": "code",
   "execution_count": null,
   "id": "25f2819a",
   "metadata": {
    "scrolled": true
   },
   "outputs": [],
   "source": [
    "plt.figure(figsize=(14, 8))\n",
    "result[0]['Open'].plot(title='Buy and Sell Signals', grid=True)\n",
    "plt.scatter(result[4], result[3], marker='^', color='green', label='Buy')\n",
    "plt.scatter(result[8], result[7], marker='v', color='red', label='Sell')\n",
    "plt.ylabel('Price')\n",
    "plt.legend()\n",
    "plt.show()"
   ]
  },
  {
   "cell_type": "markdown",
   "id": "f97be2c3",
   "metadata": {},
   "source": [
    "## 4) References"
   ]
  },
  {
   "cell_type": "markdown",
   "id": "865f5fd0",
   "metadata": {},
   "source": [
    "* Chen, J. (2023, 1 avril). What is EMA ? How to use exponential moving Average with Formula. Investopedia. https://www.investopedia.com/terms/e/ema.asp\n",
    "\n",
    "* Punwasi, K., & Brijlal, P. (2016). The market reactions to share repurchase announcements on the JSE : an event study. Investment management & financial innovations, 13(1), 191‑205. https://doi.org/10.21511/imfi.13(1-1).2016.06"
   ]
  }
 ],
 "metadata": {
  "kernelspec": {
   "display_name": "Python 3 (ipykernel)",
   "language": "python",
   "name": "python3"
  },
  "language_info": {
   "codemirror_mode": {
    "name": "ipython",
    "version": 3
   },
   "file_extension": ".py",
   "mimetype": "text/x-python",
   "name": "python",
   "nbconvert_exporter": "python",
   "pygments_lexer": "ipython3",
   "version": "3.11.5"
  }
 },
 "nbformat": 4,
 "nbformat_minor": 5
}
